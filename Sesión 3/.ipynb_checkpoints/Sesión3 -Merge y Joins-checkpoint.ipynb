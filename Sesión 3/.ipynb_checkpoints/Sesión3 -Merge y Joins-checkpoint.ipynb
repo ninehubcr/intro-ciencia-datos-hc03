{
 "cells": [
  {
   "cell_type": "markdown",
   "metadata": {},
   "source": [
    "# MERGE Y JOIN\n",
    "\n",
    "Pandas implementa varios bloques de construcción fundamentales en la función pd.merge () y el método join () relacionado de Series y Dataframes. Como veremos, estos le permiten vincular de manera eficiente datos de diferentes fuentes.\n",
    "\n",
    "    Categorías de combinaciones\n",
    "La función pd.merge () implementa varios tipos de combinaciones: las combinaciones uno a uno, muchos a uno y muchos a muchos. Se accede a los tres tipos de combinaciones mediante una llamada idéntica a la interfaz pd.merge (); el tipo de unión realizada depende de la forma de los datos de entrada. Aquí mostraremos ejemplos simples de los tres tipos de fusiones y discutiremos opciones detalladas más adelante.\n",
    "\n",
    "**Uniones uno a uno**\n",
    "Quizás el tipo más simple de expresión de combinación es la combinación uno a uno, que en muchos aspectos es muy similar a la concatenación de columnas que se ve en Combinación de conjuntos de datos: Concat y Append. Como ejemplo concreto, considere los siguientes dos DataFrames que contienen información sobre varios empleados de una empresa:"
   ]
  },
  {
   "cell_type": "code",
   "execution_count": null,
   "metadata": {},
   "outputs": [],
   "source": [
    "import pandas as pd\n",
    "import numpy as np\n",
    "\n",
    "class display(object):\n",
    "    \"\"\"Display HTML representation of multiple objects\"\"\"\n",
    "    template = \"\"\"<div style=\"float: left; padding: 10px;\">\n",
    "    <p style='font-family:\"Courier New\", Courier, monospace'>{0}</p>{1}\n",
    "    </div>\"\"\"\n",
    "    def __init__(self, *args):\n",
    "        self.args = args\n",
    "        \n",
    "    def _repr_html_(self):\n",
    "        return '\\n'.join(self.template.format(a, eval(a)._repr_html_())\n",
    "                         for a in self.args)\n",
    "    \n",
    "    def __repr__(self):\n",
    "        return '\\n\\n'.join(a + '\\n' + repr(eval(a))\n",
    "                           for a in self.args)"
   ]
  },
  {
   "cell_type": "code",
   "execution_count": null,
   "metadata": {},
   "outputs": [],
   "source": [
    "df1 = pd.DataFrame({'employee': ['Bob', 'Jake', 'Lisa', 'Sue'],\n",
    "                    'group': ['Accounting', 'Engineering', 'Engineering', 'HR']})\n",
    "df2 = pd.DataFrame({'employee': ['Lisa', 'Bob', 'Jake', 'Sue'],\n",
    "                    'hire_date': [2004, 2008, 2012, 2014]})\n",
    "display('df1', 'df2')"
   ]
  },
  {
   "cell_type": "markdown",
   "metadata": {},
   "source": [
    "Para combinar esta información en un solo DataFrame, podemos usar la función pd.merge ():"
   ]
  },
  {
   "cell_type": "code",
   "execution_count": null,
   "metadata": {},
   "outputs": [],
   "source": [
    "df3 = pd.merge(df1, df2)\n",
    "df3"
   ]
  },
  {
   "cell_type": "markdown",
   "metadata": {},
   "source": [
    "La función pd.merge () reconoce que cada DataFrame tiene una columna \"empleado\" y se une automáticamente usando esta columna como clave. El resultado de la fusión es un nuevo DataFrame que combina la información de las dos entradas. Observe que el orden de las entradas en cada columna no se mantiene necesariamente: en este caso, el orden de la columna \"empleado\" difiere entre df1 y df2, y la función pd.merge () lo explica correctamente. Además, tenga en cuenta que la fusión en general descarta el índice, excepto en el caso especial de las fusiones por índice (consulte las palabras clave left_index y right_index, que se comentan momentáneamente)."
   ]
  },
  {
   "cell_type": "markdown",
   "metadata": {},
   "source": [
    "**Uniones de varios a uno**\n",
    "\n",
    "Las combinaciones de varios a uno son combinaciones en las que una de las dos columnas clave contiene entradas duplicadas. Para el caso de muchos a uno, el DataFrame resultante conservará esas entradas duplicadas según corresponda. Considere el siguiente ejemplo de una combinación de varios a uno:"
   ]
  },
  {
   "cell_type": "code",
   "execution_count": null,
   "metadata": {},
   "outputs": [],
   "source": [
    "df4 = pd.DataFrame({'group': ['Accounting', 'Engineering', 'HR'],\n",
    "                    'supervisor': ['Carly', 'Guido', 'Steve']})\n",
    "display('df3', 'df4', 'pd.merge(df3, df4)')"
   ]
  },
  {
   "cell_type": "markdown",
   "metadata": {},
   "source": [
    "El DataFrame resultante tiene una columna adicional con la información del \"supervisor\", donde la información se repite en una o más ubicaciones según lo requieran las entradas."
   ]
  },
  {
   "cell_type": "markdown",
   "metadata": {},
   "source": [
    "**Uniones de varios a varios**\n",
    "\n",
    "Las uniones de varios a varios son un poco confusas desde el punto de vista conceptual, pero están bien definidas. Si la columna de clave en la matriz izquierda y derecha contiene duplicados, el resultado es una combinación de muchos a muchos. Quizás esto quede más claro con un ejemplo concreto. Considere lo siguiente, donde tenemos un DataFrame que muestra una o más habilidades asociadas con un grupo en particular. Al realizar una combinación de varios a varios, podemos recuperar las habilidades asociadas con cualquier persona individual:"
   ]
  },
  {
   "cell_type": "code",
   "execution_count": null,
   "metadata": {},
   "outputs": [],
   "source": [
    "df5 = pd.DataFrame({'group': ['Accounting', 'Accounting',\n",
    "                              'Engineering', 'Engineering', 'HR', 'HR'],\n",
    "                    'skills': ['math', 'spreadsheets', 'coding', 'linux',\n",
    "                               'spreadsheets', 'organization']})\n",
    "display('df1', 'df5', \"pd.merge(df1, df5)\")"
   ]
  },
  {
   "cell_type": "markdown",
   "metadata": {},
   "source": [
    "Estos tres tipos de combinaciones se pueden usar con otras herramientas de Pandas para implementar una amplia gama de funcionalidades. Pero en la práctica, los conjuntos de datos rara vez son tan limpios como con el que estamos trabajando aquí. En la siguiente sección consideraremos algunas de las opciones proporcionadas por pd.merge () que le permiten ajustar cómo funcionan las operaciones de unión."
   ]
  },
  {
   "cell_type": "markdown",
   "metadata": {},
   "source": [
    "De manera más simple, puede especificar explícitamente el nombre de la columna clave utilizando la palabra clave on, que toma un nombre de columna o una lista de nombres de columna:"
   ]
  },
  {
   "cell_type": "code",
   "execution_count": null,
   "metadata": {},
   "outputs": [],
   "source": [
    "display('df1', 'df2', \"pd.merge(df1, df2, on='employee')\")"
   ]
  },
  {
   "cell_type": "markdown",
   "metadata": {},
   "source": [
    "Esta opción solo funciona si los DataFrames izquierdo y derecho tienen el nombre de columna especificado.\n",
    "\n",
    "En ocasiones, es posible que desee fusionar dos conjuntos de datos con diferentes nombres de columna; por ejemplo, es posible que tengamos un conjunto de datos en el que el nombre del empleado esté etiquetado como \"nombre\" en lugar de \"empleado\". En este caso, podemos usar las palabras clave left_on y right_on para especificar los dos nombres de columna:"
   ]
  },
  {
   "cell_type": "code",
   "execution_count": null,
   "metadata": {},
   "outputs": [],
   "source": [
    "df3 = pd.DataFrame({'name': ['Bob', 'Jake', 'Lisa', 'Sue'],\n",
    "                    'salary': [70000, 80000, 120000, 90000]})\n",
    "display('df1', 'df3', 'pd.merge(df1, df3, left_on=\"employee\", right_on=\"name\")')"
   ]
  },
  {
   "cell_type": "markdown",
   "metadata": {},
   "source": [
    "El resultado tiene una columna redundante que podemos eliminar si lo deseamos, por ejemplo, usando el método drop () de DataFrames:"
   ]
  },
  {
   "cell_type": "code",
   "execution_count": null,
   "metadata": {},
   "outputs": [],
   "source": [
    "pd.merge(df1, df3, left_on=\"employee\", right_on=\"name\").drop('name', axis=1)"
   ]
  },
  {
   "cell_type": "markdown",
   "metadata": {},
   "source": [
    "**Especificación de la aritmética de conjuntos para combinaciones**\n",
    "En todos los ejemplos anteriores, hemos pasado por alto una consideración importante al realizar una combinación: el tipo de aritmética de conjuntos utilizada en la combinación. Aparece cuando aparece un valor en una columna clave pero no en la otra. Considere este ejemplo:"
   ]
  },
  {
   "cell_type": "code",
   "execution_count": null,
   "metadata": {},
   "outputs": [],
   "source": [
    "df6 = pd.DataFrame({'name': ['Peter', 'Paul', 'Mary'],\n",
    "                    'food': ['fish', 'beans', 'bread']},\n",
    "                   columns=['name', 'food'])\n",
    "df7 = pd.DataFrame({'name': ['Mary', 'Joseph'],\n",
    "                    'drink': ['wine', 'beer']},\n",
    "                   columns=['name', 'drink'])\n",
    "display('df6', 'df7', 'pd.merge(df6, df7)')"
   ]
  },
  {
   "cell_type": "markdown",
   "metadata": {},
   "source": [
    "Aquí hemos fusionado dos conjuntos de datos que tienen una sola entrada de \"nombre\" en común: Mary. De forma predeterminada, el resultado contiene la intersección de los dos conjuntos de entradas; esto es lo que se conoce como unión interna. Podemos especificar esto explícitamente usando la palabra clave how, que por defecto es \"inner\":"
   ]
  },
  {
   "cell_type": "code",
   "execution_count": null,
   "metadata": {},
   "outputs": [],
   "source": [
    "pd.merge(df6, df7, how='inner')"
   ]
  },
  {
   "cell_type": "markdown",
   "metadata": {},
   "source": [
    "Otras opciones para la palabra clave cómo son 'outer', 'left' y 'right'. Una combinación externa devuelve una combinación sobre la unión de las columnas de entrada y completa todos los valores faltantes con NA:"
   ]
  },
  {
   "cell_type": "code",
   "execution_count": null,
   "metadata": {},
   "outputs": [],
   "source": [
    "display('df6', 'df7', \"pd.merge(df6, df7, how='outer')\")"
   ]
  },
  {
   "cell_type": "markdown",
   "metadata": {},
   "source": [
    "El retorno de la combinación left y la combinación right se unen sobre las entradas de la izquierda y de la derecha, respectivamente. Por ejemplo:"
   ]
  },
  {
   "cell_type": "code",
   "execution_count": null,
   "metadata": {},
   "outputs": [],
   "source": [
    "display('df6', 'df7', \"pd.merge(df6, df7, how='left')\")"
   ]
  },
  {
   "cell_type": "markdown",
   "metadata": {},
   "source": [
    "Una forma de visualizar mejor este concepto es con el siguiente diagrama:\n",
    "\n",
    "\n",
    "<img src=\"joins.png\">"
   ]
  },
  {
   "cell_type": "markdown",
   "metadata": {},
   "source": [
    "**Nombres de columnas superpuestos: la palabra clave sufixes**\n",
    "Finalmente, puede terminar en un caso en el que sus dos DataFrames de entrada tengan nombres de columna en conflicto. Considere este ejemplo:"
   ]
  },
  {
   "cell_type": "code",
   "execution_count": null,
   "metadata": {},
   "outputs": [],
   "source": [
    "df8 = pd.DataFrame({'name': ['Bob', 'Jake', 'Lisa', 'Sue'],\n",
    "                    'rank': [1, 2, 3, 4]})\n",
    "df9 = pd.DataFrame({'name': ['Bob', 'Jake', 'Lisa', 'Sue'],\n",
    "                    'rank': [3, 1, 4, 2]})\n",
    "display('df8', 'df9', 'pd.merge(df8, df9, on=\"name\")')"
   ]
  },
  {
   "cell_type": "markdown",
   "metadata": {},
   "source": [
    "Debido a que la salida tendría dos nombres de columna en conflicto, la función de combinación agrega automáticamente un sufijo _x o _y para hacer que las columnas de salida sean únicas. Si estos valores predeterminados son inapropiados, es posible especificar un sufijo personalizado utilizando la palabra clave sufijos:"
   ]
  },
  {
   "cell_type": "code",
   "execution_count": null,
   "metadata": {},
   "outputs": [],
   "source": [
    "display('df8', 'df9', 'pd.merge(df8, df9, on=\"name\", suffixes=[\"_L\", \"_R\"])')"
   ]
  }
 ],
 "metadata": {
  "kernelspec": {
   "display_name": "Python 3",
   "language": "python",
   "name": "python3"
  },
  "language_info": {
   "codemirror_mode": {
    "name": "ipython",
    "version": 3
   },
   "file_extension": ".py",
   "mimetype": "text/x-python",
   "name": "python",
   "nbconvert_exporter": "python",
   "pygments_lexer": "ipython3",
   "version": "3.7.6"
  }
 },
 "nbformat": 4,
 "nbformat_minor": 4
}
