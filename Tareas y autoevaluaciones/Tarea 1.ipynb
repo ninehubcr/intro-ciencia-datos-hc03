{
 "cells": [
  {
   "cell_type": "markdown",
   "metadata": {},
   "source": [
    "# Tarea 1 - Pandas y Matplotlib\n",
    "\n",
    "- Utilizando los datos de exoplanetas de la Sesión 2, haga lo siguiente\n",
    "1. Cree un nuevo dataframe\n",
    "2. Utilice el groupby para agrupar los planetas por su método de descubrimiento.\n",
    "3. Utilizando un groupby().agg(), agrupe los planetas por su método de descubrimiento, y agreguelos por sus masas.\n",
    "4. Cree un gráfico de barras donde cada barra sea uno de los métodos de descubrimiento, y el eje y sea el total de las masas de los planetas descubiertos por ese método."
   ]
  },
  {
   "cell_type": "markdown",
   "metadata": {},
   "source": [
    "<img src='Tarea1-1.png' width=300>"
   ]
  },
  {
   "cell_type": "markdown",
   "metadata": {},
   "source": [
    "<img src='Tarea1-2.png' width=300>"
   ]
  },
  {
   "cell_type": "code",
   "execution_count": null,
   "metadata": {},
   "outputs": [],
   "source": []
  }
 ],
 "metadata": {
  "kernelspec": {
   "display_name": "Python 3",
   "language": "python",
   "name": "python3"
  },
  "language_info": {
   "codemirror_mode": {
    "name": "ipython",
    "version": 3
   },
   "file_extension": ".py",
   "mimetype": "text/x-python",
   "name": "python",
   "nbconvert_exporter": "python",
   "pygments_lexer": "ipython3",
   "version": "3.8.5"
  }
 },
 "nbformat": 4,
 "nbformat_minor": 4
}
