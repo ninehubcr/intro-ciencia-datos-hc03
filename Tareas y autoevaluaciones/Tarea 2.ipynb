{
 "cells": [
  {
   "cell_type": "markdown",
   "metadata": {},
   "source": [
    "# Tarea 2\n",
    "\n",
    "- Cargue los datos de meteorite_landins.csv de la sesión 3\n",
    "- Cree un nuevo dataframe llamado meteoritos_h4. En este dataframe, utilizando la función str. seleccione todos los meteoritos solamente de categoría H4\n",
    "- Cree otro dataframe llamado meteoritos_h5. En este dataframe, utilizando la función str. seleccione todos los meteoritos de solamente categoría H5\n",
    "- Limpie los datos de ambos dataframes, eliminando las entradas donde las masas sean cero, null, NaN, etc.\n",
    "- Utilizando masks y selecciones, cuente cuántos meteoritos H4 cayeron entre 1960 y 1990.\n",
    "- Utilizando masks y selecciones, cuente cuántos meteoritos H5 cayeron entre 1960 y 1990.\n",
    "- Concatene ambos dataframes y grafique la cantidad de meteoritos por clase y por año"
   ]
  },
  {
   "cell_type": "code",
   "execution_count": null,
   "metadata": {},
   "outputs": [],
   "source": []
  }
 ],
 "metadata": {
  "kernelspec": {
   "display_name": "Python 3",
   "language": "python",
   "name": "python3"
  },
  "language_info": {
   "codemirror_mode": {
    "name": "ipython",
    "version": 3
   },
   "file_extension": ".py",
   "mimetype": "text/x-python",
   "name": "python",
   "nbconvert_exporter": "python",
   "pygments_lexer": "ipython3",
   "version": "3.8.5"
  }
 },
 "nbformat": 4,
 "nbformat_minor": 4
}
