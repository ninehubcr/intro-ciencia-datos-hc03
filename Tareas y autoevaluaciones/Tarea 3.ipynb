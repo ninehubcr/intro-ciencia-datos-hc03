{
 "cells": [
  {
   "cell_type": "markdown",
   "metadata": {},
   "source": [
    "# Tarea 3 - Exploración de datos\n",
    "\n",
    "En esta tarea estaremos poniéndo en práctica la mayor parte de las herramientas que hemos vistos hasta ahora. Estaremos utilizando los datasets provistos por Seaborn.\n",
    "\n",
    "1. Elija uno de los datasets provistos por Seaborn. Algunas recomendaciones son `flights.csv`, `iris.csv`, `mpg.csv`, `penguins.csv`, `planets.csv`, `tips.csv`, `titanic.csv`. Recuerde cargar el dataset con la función [seaborn.load_dataset](https://seaborn.pydata.org/generated/seaborn.load_dataset.html). La lista completa de datasets se encuentra [en el siguiente enlace](https://github.com/mwaskom/seaborn-data)\n",
    "1. Cargue sus datos a un nuevo dataframe de Pandas. Importe cualquier otra librería que necesite.\n",
    "1. Muestre el `head()` de los datos.\n",
    "1. ¿De qué tamaño es el dataset? ¿cuántas columnas y filas tiene?\n",
    "1. ¿Cuáles columnas contiene el dataset? ¿Cuáles son los nombres de las columnas?\n",
    "1. ¿Cuáles valores únicos contiene cada columna?\n",
    "1. De las columnas de su dataset elegido, elija dos columnas y explique qué significan estas columnas, en términos sencillos.\n",
    "1. Muestre la distribución cuantitativa de los datos para ambas variables elegidas en el punto anterior utilizando un `boxplot`. Si es necesario, para tener una mejor visualización, elija variables diferentes al punto anterior.\n",
    "1. Elija uno de los siguientes puntos:\n",
    "\n",
    "    a. Si sus datos contiene información temporal/de tiempo, como años, meses, días, horas, etc. Cree una gráfica con plt.plot() con alguna de las variables. Por ejemplo: vuelos por año (flights.csv), planetas descubiertos por año (planets.csv), total de la cuenta por día (tips.csv)\n",
    "    \n",
    "    b. Si sus datos no contienen información temporal, grafique la comparación entre una de las columnas en un histograma. Por ejemplo 'flipper length' para las 3 diferentes especies de pinguinos (dataset pinguins.csv). Tamaño sepal 'sepal_length' comparado entre las 3 especies. Ver ejemplo\n",
    "    \n",
    "9.a <img src='https://i0.wp.com/thecleverprogrammer.com/wp-content/uploads/2020/05/Untitled-8.png?resize=520%2C314&ssl=1' width=400>\n",
    "\n",
    "9.b <img src='https://github.com/allisonhorst/palmerpenguins/raw/master/man/figures/README-flipper-hist-1.png' width=400>\n",
    "\n",
    "10. Cree dos anotaciones en su gráfica elegida. Cree una anotación solo con texto y elija algún formato para alguno de los puntos de la gráfica.\n",
    "\n",
    "11. Cree una segunda anotación, utilizando la función `annotate` con la opción de `arrowprops`\n",
    "\n",
    "12. ¿Cómo se relacionan las variables entre ellas? ¿Hay alguna correlación? Describa esta correlación utilizando la función `df.corr()` donde df es el nombre de su dataframe.\n",
    "\n",
    "13. Visualizemos mejor las correlaciones. Agregue un `sns.heatmap(df.corr())` ¿Qué puede inferir de esto? ¿Existe alguna variable que se mueva cercano a 1 junto a otra? Escriba una inferencia que puede hacer sobre los datos.\n",
    "\n",
    "14. Finalmente, visualicemos mejor estas correlaciones con una matriz de distribución, utilice la función `sns.pairplot`. Recuerde definir el parámetro `hue` como las categorías que quiere explorar (especies de planta, especies de pinguino, días, etc). Para ver un ejemplo [siga el siguiente enlace](http://seaborn.pydata.org/examples/scatterplot_matrix.html) ¿Qué otra inferencia puede hacer de sus datos a partir de esta matriz"
   ]
  },
  {
   "cell_type": "code",
   "execution_count": null,
   "metadata": {},
   "outputs": [],
   "source": [
    "import seaborn as sns\n",
    "import pandas as pd\n",
    "\n",
    "datos = sns.load_dataset()\n",
    "datos.head()"
   ]
  }
 ],
 "metadata": {
  "kernelspec": {
   "display_name": "Python 3",
   "language": "python",
   "name": "python3"
  },
  "language_info": {
   "codemirror_mode": {
    "name": "ipython",
    "version": 3
   },
   "file_extension": ".py",
   "mimetype": "text/x-python",
   "name": "python",
   "nbconvert_exporter": "python",
   "pygments_lexer": "ipython3",
   "version": "3.8.5"
  }
 },
 "nbformat": 4,
 "nbformat_minor": 4
}
